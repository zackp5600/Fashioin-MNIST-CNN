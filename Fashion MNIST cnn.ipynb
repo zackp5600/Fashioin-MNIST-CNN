{
 "cells": [
  {
   "cell_type": "code",
   "execution_count": 1,
   "id": "2aac97e8",
   "metadata": {
    "scrolled": true
   },
   "outputs": [
    {
     "data": {
      "image/png": "[encoded data removed]",
      "text/plain": [
       "<Figure size 640x480 with 1 Axes>"
      ]
     },
     "metadata": {},
     "output_type": "display_data"
    },
    {
     "name": "stdout",
     "output_type": "stream",
     "text": [
      "Epoch 1/15\n",
      "1875/1875 [==============================] - 33s 17ms/step - loss: 0.5296 - accuracy: 0.8025\n",
      "Epoch 2/15\n",
      "1875/1875 [==============================] - 32s 17ms/step - loss: 0.3457 - accuracy: 0.8715\n",
      "Epoch 3/15\n",
      "1875/1875 [==============================] - 27s 14ms/step - loss: 0.2998 - accuracy: 0.8880\n",
      "Epoch 4/15\n",
      "1875/1875 [==============================] - 37s 20ms/step - loss: 0.2723 - accuracy: 0.8969\n",
      "Epoch 5/15\n",
      "1875/1875 [==============================] - 31s 16ms/step - loss: 0.2523 - accuracy: 0.9050\n",
      "Epoch 6/15\n",
      "1875/1875 [==============================] - 32s 17ms/step - loss: 0.2318 - accuracy: 0.9122\n",
      "Epoch 7/15\n",
      "1875/1875 [==============================] - 37s 20ms/step - loss: 0.2189 - accuracy: 0.9170\n",
      "Epoch 8/15\n",
      "1875/1875 [==============================] - 35s 19ms/step - loss: 0.2028 - accuracy: 0.9236\n",
      "Epoch 9/15\n",
      "1875/1875 [==============================] - 39s 21ms/step - loss: 0.1893 - accuracy: 0.9279\n",
      "Epoch 10/15\n",
      "1875/1875 [==============================] - 35s 19ms/step - loss: 0.1774 - accuracy: 0.9333\n",
      "Epoch 11/15\n",
      "1875/1875 [==============================] - 38s 20ms/step - loss: 0.1661 - accuracy: 0.9371\n",
      "Epoch 12/15\n",
      "1875/1875 [==============================] - 40s 22ms/step - loss: 0.1546 - accuracy: 0.9416\n",
      "Epoch 13/15\n",
      "1875/1875 [==============================] - 47s 25ms/step - loss: 0.1452 - accuracy: 0.9440\n",
      "Epoch 14/15\n",
      "1875/1875 [==============================] - 38s 20ms/step - loss: 0.1366 - accuracy: 0.9474\n",
      "Epoch 15/15\n",
      "1875/1875 [==============================] - 37s 20ms/step - loss: 0.1264 - accuracy: 0.9521\n"
     ]
    },
    {
     "data": {
      "text/plain": [
       "<keras.callbacks.History at 0x11eb13008c8>"
      ]
     },
     "execution_count": 1,
     "metadata": {},
     "output_type": "execute_result"
    }
   ],
   "source": [
    "import tensorflow as tf\n",
    "from tensorflow.keras import layers, models, datasets\n",
    "import matplotlib.pyplot as plt\n",
    "\n",
    "\n",
    "# load data \n",
    "data = datasets.fashion_mnist\n",
    "\n",
    "(x_train, y_train), (x_test, y_test) = data.load_data()\n",
    "plt.imshow(x_train[0], cmap=plt.cm.binary)\n",
    "plt.show()\n",
    "\n",
    "#normalize data\n",
    "\n",
    "x_train = tf.keras.utils.normalize(x_train, axis=1)\n",
    "x_test = tf.keras.utils.normalize(x_test, axis=1)\n",
    "\n",
    "#build the model\n",
    "\n",
    "#use a convolutional neural network\n",
    "\n",
    "model = models.Sequential()\n",
    "model.add(layers.Conv2D(28, (3,3), activation='relu', input_shape=(28,28,1)))\n",
    "model.add(layers.MaxPooling2D((2, 2)))\n",
    "model.add(layers.Conv2D(28, (3,3), activation='relu'))\n",
    "model.add(layers.MaxPooling2D((2, 2)))\n",
    "model.add(layers.Flatten())\n",
    "model.add(layers.Dense(100, activation='relu'))\n",
    "model.add(layers.Dense(62, activation='relu'))\n",
    "model.add(layers.Dense(10))\n",
    "\n",
    "#compile model\n",
    "loss = tf.keras.losses.SparseCategoricalCrossentropy(from_logits=True)\n",
    "\n",
    "model.compile(\n",
    "    optimizer='adam',\n",
    "    loss=loss,\n",
    "    metrics=['accuracy']\n",
    ")\n",
    "\n",
    "#training model\n",
    "print(\"hello \")\n",
    "model.fit(x_train, y_train, epochs=15)"
   ]
  },
  {
   "cell_type": "markdown",
   "id": "8a07018e",
   "metadata": {},
   "source": [
    "95% accuracy"
   ]
  }
 ],
 "metadata": {
  "kernelspec": {
   "display_name": "Python 3 (ipykernel)",
   "language": "python",
   "name": "python3"
  },
  "language_info": {
   "codemirror_mode": {
    "name": "ipython",
    "version": 3
   },
   "file_extension": ".py",
   "mimetype": "text/x-python",
   "name": "python",
   "nbconvert_exporter": "python",
   "pygments_lexer": "ipython3",
   "version": "3.7.13"
  }
 },
 "nbformat": 4,
 "nbformat_minor": 5
}
